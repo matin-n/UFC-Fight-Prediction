{
 "cells": [
  {
   "cell_type": "markdown",
   "id": "1101e5af",
   "metadata": {},
   "source": [
    "# UFC Fight Prediction\n"
   ]
  },
  {
   "cell_type": "code",
   "execution_count": null,
   "id": "2b4fae9e",
   "metadata": {},
   "outputs": [],
   "source": [
    "# Import dependencies\n",
    "import pandas as pd\n",
    "import plotly.express as px\n",
    "import numpy as np\n"
   ]
  },
  {
   "cell_type": "code",
   "execution_count": null,
   "id": "1faf8e79",
   "metadata": {},
   "outputs": [],
   "source": [
    "# Read in the CSV file (data.csv) as a DataFrame\n",
    "ufc_df = pd.read_csv(\"Resources/scraped_data.csv\", low_memory=False)\n",
    "ufc_df\n",
    "\n",
    "# DtypeWarning: Columns (2,98,122,139,142,146,163,166,259,300,303,307,324,327) have mixed types.\n",
    "# FIX: To ensure no mixed types either set low_memory=False in read_csv(),\n",
    "# or specify the type with the dtype parameter. Specifying the datatype may result in memory improvements.\n"
   ]
  },
  {
   "cell_type": "markdown",
   "id": "6d80d799",
   "metadata": {},
   "source": [
    "## Data Cleaning\n"
   ]
  },
  {
   "cell_type": "code",
   "execution_count": null,
   "id": "39f1c2ac",
   "metadata": {
    "pycharm": {
     "name": "#%%\n"
    }
   },
   "outputs": [],
   "source": [
    "# View duplicated rows.\n",
    "display(ufc_df[ufc_df.duplicated()])\n",
    "\n",
    "# Dropping duplicate rows. Can happen sometimes due to the new event being scraped.\n",
    "ufc_df = ufc_df.drop_duplicates()\n",
    "display(ufc_df)\n",
    "\n",
    "# If the subset of columns contains a duplicate row then Raise SystemExit exception; historically, this has not occurred before.\n",
    "if len(ufc_df[ufc_df.duplicated(subset=[\"Event_Date\", \"B_Name\", \"R_Name\"])]) != 0:\n",
    "    raise SystemExit(\"Duplicate events found!\")\n"
   ]
  },
  {
   "cell_type": "code",
   "execution_count": null,
   "id": "ea310fa1",
   "metadata": {
    "pycharm": {
     "name": "#%%\n"
    }
   },
   "outputs": [],
   "source": [
    "# Converting Event_Date column values to datetime64 to drop older fights below\n",
    "ufc_df[\"Event_Date\"] = pd.to_datetime(ufc_df[\"Event_Date\"])\n"
   ]
  },
  {
   "cell_type": "code",
   "execution_count": null,
   "id": "b79754f0",
   "metadata": {
    "pycharm": {
     "name": "#%%\n"
    }
   },
   "outputs": [],
   "source": [
    "# Removing old fights due to the lack of rule consistency\n",
    "ufc_df = ufc_df[ufc_df[\"Event_Date\"] >= pd.to_datetime(\"5/3/2001\")]\n"
   ]
  },
  {
   "cell_type": "code",
   "execution_count": null,
   "id": "8ac8304f",
   "metadata": {},
   "outputs": [],
   "source": [
    "# TODO: Fix handling of `--`, `---`, or `No Time Limit`; I was unsure on what each value means so I just set them to NaN.\n",
    "ufc_df = ufc_df.replace(\"--\", np.NaN)\n",
    "ufc_df = ufc_df.replace(\"---\", np.NaN)\n",
    "ufc_df = ufc_df.replace(\"No Time Limit\", np.NaN)\n"
   ]
  },
  {
   "cell_type": "code",
   "execution_count": null,
   "id": "ecdcd9f3",
   "metadata": {},
   "outputs": [],
   "source": [
    "# Extract number inside the parenthesis using Regex matching; no contest(s) amount\n",
    "ufc_df[\"R_No_Contest\"] = ufc_df[\"R_Draws\"].str.extract(\"\\((\\d+)\\sNC\\)\", expand=False)\n",
    "ufc_df[\"B_No_Contest\"] = ufc_df[\"B_Draws\"].str.extract(\"\\((\\d+)\\sNC\\)\", expand=False)\n",
    "\n",
    "# Extract first number at start of string using Regex matching; draw(s) amount\n",
    "ufc_df[\"R_Draws\"] = ufc_df[\"R_Draws\"].str.extract(\"^(\\d+)\", expand=False)\n",
    "ufc_df[\"B_Draws\"] = ufc_df[\"B_Draws\"].str.extract(\"^(\\d+)\", expand=False)\n"
   ]
  },
  {
   "cell_type": "markdown",
   "id": "9d646229",
   "metadata": {},
   "source": [
    "|   Weight Class    | Minimum Weight (lb) | Maximum Weight (lb) |\n",
    "| :---------------: | :-----------------: | :-----------------: |\n",
    "|    Heavyweight    |         205         |         265         |\n",
    "| Light Heavyweight |         185         |         205         |\n",
    "|   Middleweight    |         170         |         185         |\n",
    "|   Welterweight    |         155         |         170         |\n",
    "|    Lightweight    |         145         |         155         |\n",
    "|   Featherweight   |         135         |         145         |\n",
    "|   Bantamweight    |         125         |         135         |\n",
    "|     Flyweight     |         115         |         125         |\n",
    "|   Strawweight\\*   |          0          |         115         |\n",
    "\n",
    "- \"The women’s UFC division is split into only 4 classes: strawweight, flyweight, bantamweight, and featherweight. The strawweight class is only used in the women’s division and men do not compete in it.\"\n"
   ]
  },
  {
   "cell_type": "code",
   "execution_count": null,
   "id": "12d90b08",
   "metadata": {},
   "outputs": [],
   "source": [
    "# View descriptive statistics (central tendency, dispersion and shape of a dataset’s distribution, excluding NaN values)\n",
    "# before removing rows that do not contain a standardized weight class\n",
    "display(ufc_df[[\"R_Weight\", \"B_Weight\"]].describe())\n",
    "display(ufc_df.Weight_Class.value_counts())\n",
    "\n",
    "# Keep rows that contain standardized weight class\n",
    "ufc_df = ufc_df.loc[\n",
    "    (ufc_df.Weight_Class == \"Heavyweight\")\n",
    "    | (ufc_df.Weight_Class == \"Light Heavyweight\")\n",
    "    | (ufc_df.Weight_Class == \"Middleweight\")\n",
    "    | (ufc_df.Weight_Class == \"Welterweight\")\n",
    "    | (ufc_df.Weight_Class == \"Lightweight\")\n",
    "    | (ufc_df.Weight_Class == \"Featherweight\")\n",
    "    | (ufc_df.Weight_Class == \"Bantamweight\")\n",
    "    | (ufc_df.Weight_Class == \"Flyweight\")\n",
    "    | (ufc_df.Weight_Class == \"Strawweight\")\n",
    "    | (ufc_df.Weight_Class == \"Women's Strawweight\")\n",
    "    | (ufc_df.Weight_Class == \"Women's Flyweight\")\n",
    "    | (ufc_df.Weight_Class == \"Women's Bantamweight\")\n",
    "    | (ufc_df.Weight_Class == \"Women's Featherweight\")\n",
    "    # TODO: Should \"Catch Weight\" be excluded?\n",
    "    # | (ufc_df.Weight_Class == \"Catch Weight\")\n",
    "    # | (ufc_df.Weight_Class == \"Super Heavyweight\")  # no longer a weight class or part of dataset\n",
    "    # | (ufc_df.Weight_Class == \"Open Weight\")  # no longer a weight class or part of dataset\n",
    "    # TODO: Create `other` category for anything that does not fall in standardized Weight_Class (?)\n",
    "    # | (ufc_df.Winnner == \"Other\")\n",
    "]\n",
    "\n",
    "# View descriptive statistics (central tendency, dispersion and shape of a dataset’s distribution, excluding NaN values)\n",
    "# after removing rows that do not contain a standardized weight class\n",
    "display(\"-\" * 50)\n",
    "display(ufc_df[[\"R_Weight\", \"B_Weight\"]].describe())\n",
    "display(ufc_df.Weight_Class.value_counts())\n"
   ]
  },
  {
   "cell_type": "code",
   "execution_count": null,
   "id": "75993da4",
   "metadata": {},
   "outputs": [],
   "source": [
    "# Converting blue corner values to the correct dtype (Categorical or numeric)\n",
    "ufc_df = ufc_df.astype(\n",
    "    {\n",
    "        \"B_Name\": \"category\",\n",
    "        \"B_Reach\": \"float\",\n",
    "        \"B_Significant_Strike_Perc\": \"float\",\n",
    "        \"B_Takedown_Perc\": \"float\",\n",
    "        \"B_Round_One_Significant_Strike_Perc\": \"float\",\n",
    "        \"B_Round_One_Takedown_Perc\": \"float\",\n",
    "        \"B_Round_Two_Significant_Strike_Perc\": \"float\",\n",
    "        \"B_Round_Two_Takedown_Perc\": \"float\",\n",
    "        \"B_Round_Three_Significant_Strike_Perc\": \"float\",\n",
    "        \"B_Round_Three_Takedown_Perc\": \"float\",\n",
    "        \"B_Round_Four_Takedown_Perc\": \"float\",\n",
    "        \"B_Round_Five_Takedown_Perc\": \"float\",\n",
    "        \"B_Round_Four_Significant_Strike_Perc\": \"float\",\n",
    "        \"B_Round_Five_Significant_Strike_Perc\": \"float\",\n",
    "        \"B_Draws\": \"float\",\n",
    "        \"B_No_Contest\": \"float\",\n",
    "    }\n",
    ")\n",
    "\n",
    "# Converting red corner values to the correct dtype (categorical or numeric)\n",
    "ufc_df = ufc_df.astype(\n",
    "    {\n",
    "        \"R_Name\": \"category\",\n",
    "        \"R_Reach\": \"float\",\n",
    "        \"R_Significant_Strike_Perc\": \"float\",\n",
    "        \"R_Takedown_Perc\": \"float\",\n",
    "        \"R_Round_One_Significant_Strike_Perc\": \"float\",\n",
    "        \"R_Round_One_Takedown_Perc\": \"float\",\n",
    "        \"R_Round_Two_Significant_Strike_Perc\": \"float\",\n",
    "        \"R_Round_Two_Takedown_Perc\": \"float\",\n",
    "        \"R_Round_Three_Significant_Strike_Perc\": \"float\",\n",
    "        \"R_Round_Three_Takedown_Perc\": \"float\",\n",
    "        \"R_Round_Four_Takedown_Perc\": \"float\",\n",
    "        \"R_Round_Five_Takedown_Perc\": \"float\",\n",
    "        \"R_Round_Five_Significant_Strike_Perc\": \"float\",\n",
    "        \"R_Draws\": \"float\",\n",
    "        \"R_No_Contest\": \"float\",\n",
    "    }\n",
    ")\n",
    "\n",
    "# Convert Max_Rounds to Integer\n",
    "# TODO: Why is `Max_Rounds` being inferred as a object and not `Ending_Round`?\n",
    "ufc_df[\"Max_Rounds\"] = ufc_df[\"Max_Rounds\"].astype(\"int64\")\n"
   ]
  },
  {
   "cell_type": "code",
   "execution_count": null,
   "id": "19c5fca8",
   "metadata": {
    "pycharm": {
     "name": "#%%\n"
    }
   },
   "outputs": [],
   "source": [
    "# Alphabetically sort column names\n",
    "original_column_list = ufc_df.columns.tolist()\n",
    "sorted_column_list = sorted(ufc_df.columns.tolist())\n",
    "# TODO: Is there a benefit of using .reindex instead?\n",
    "ufc_df = ufc_df[sorted_column_list]\n"
   ]
  },
  {
   "cell_type": "code",
   "execution_count": null,
   "id": "2e4e20fa",
   "metadata": {},
   "outputs": [],
   "source": [
    "# Symmetric difference between original & sorted column names to ensure no columns are not missing.\n",
    "set(original_column_list) ^ set(sorted_column_list)\n"
   ]
  },
  {
   "cell_type": "code",
   "execution_count": null,
   "id": "3fdf183c",
   "metadata": {
    "scrolled": true
   },
   "outputs": [],
   "source": [
    "#  Infer best column dtype & add missing values to rows\n",
    "ufc_df = ufc_df.convert_dtypes()\n",
    "ufc_df.dtypes.value_counts()\n"
   ]
  },
  {
   "cell_type": "code",
   "execution_count": null,
   "id": "a1f04a4b",
   "metadata": {
    "scrolled": false
   },
   "outputs": [],
   "source": [
    "ufc_df.head()\n"
   ]
  },
  {
   "cell_type": "markdown",
   "id": "fbb87721",
   "metadata": {},
   "source": [
    "## Data Exploration\n"
   ]
  },
  {
   "cell_type": "markdown",
   "id": "cad348fe",
   "metadata": {},
   "source": [
    "### Winner (Red vs. Blue)\n"
   ]
  },
  {
   "cell_type": "code",
   "execution_count": null,
   "id": "f29ba49d",
   "metadata": {},
   "outputs": [],
   "source": [
    "fig_piechart_winrate_color = px.pie(\n",
    "    title=\"Win Rate by Fighter Color\",\n",
    "    values=ufc_df[\"Winner\"].value_counts().values,\n",
    "    names=ufc_df[\"Winner\"].value_counts().index,\n",
    "    color=ufc_df[\"Winner\"].value_counts().index,\n",
    "    # color values from px.colors.qualitative.Plotly\n",
    "    color_discrete_map={\n",
    "        \"Red\": \"#EF553B\",\n",
    "        \"Blue\": \"#636EFA\",\n",
    "    },\n",
    ")\n",
    "fig_piechart_winrate_color.update_traces(hovertemplate=None)\n",
    "fig_piechart_winrate_color.show()"
   ]
  },
  {
   "cell_type": "markdown",
   "id": "ed8eb407",
   "metadata": {},
   "source": [
    "### Age\n"
   ]
  },
  {
   "cell_type": "code",
   "execution_count": null,
   "id": "11a58a2d",
   "metadata": {},
   "outputs": [],
   "source": [
    "# Generate descriptive statistics on Age columns (min, max, etc)\n",
    "ufc_df[[\"R_Age\", \"B_Age\"]].describe()\n"
   ]
  },
  {
   "cell_type": "code",
   "execution_count": null,
   "id": "7dcea0be",
   "metadata": {},
   "outputs": [],
   "source": [
    "# Use Box & Whisker plot to visualize Age outliers\n",
    "fig_boxplot_age = px.box(\n",
    "    pd.melt(ufc_df[[\"R_Age\", \"B_Age\"]]),\n",
    "    x=\"variable\",\n",
    "    y=\"value\",\n",
    "    color=\"variable\",\n",
    "    # color values from px.colors.qualitative.Plotly\n",
    "    color_discrete_map={\n",
    "        \"R_Age\": \"#EF553B\",\n",
    "        \"B_Age\": \"#636EFA\",\n",
    "    },\n",
    "    # Axis titles (and legend titles) can also be overridden using the labels argument of Plotly Express functions\n",
    "    labels=dict(variable=\"Fighter Color\", value=\"Age (years)\"),\n",
    ")\n",
    "fig_boxplot_age.show()"
   ]
  },
  {
   "cell_type": "markdown",
   "id": "19369aa4",
   "metadata": {},
   "source": [
    "### Height\n"
   ]
  },
  {
   "cell_type": "code",
   "execution_count": null,
   "id": "ff978f88",
   "metadata": {
    "scrolled": true
   },
   "outputs": [],
   "source": [
    "# Generate descriptive statistics on Height columns (min, max, etc)\n",
    "ufc_df[[\"R_Height\", \"B_Height\"]].describe()\n"
   ]
  },
  {
   "cell_type": "code",
   "execution_count": null,
   "id": "247a5d96",
   "metadata": {},
   "outputs": [],
   "source": [
    "# Use Box & Whisker plot to visualize Height outliers\n",
    "fig_boxplot_height = px.box(\n",
    "    pd.melt(ufc_df[[\"R_Height\", \"B_Height\"]]),\n",
    "    x=\"variable\",\n",
    "    y=\"value\",\n",
    "    color=\"variable\",\n",
    "    # Color values from px.colors.qualitative.Plotly\n",
    "    color_discrete_map={\n",
    "        \"R_Height\": \"#EF553B\",\n",
    "        \"B_Height\": \"#636EFA\",\n",
    "    },\n",
    "    # Axis titles (and legend titles) can also be overridden using the labels argument of Plotly Express functions\n",
    "    labels=dict(variable=\"Fighter Color\", value=\"Height (inches)\"),\n",
    ")\n",
    "fig_boxplot_height.show()"
   ]
  },
  {
   "cell_type": "markdown",
   "id": "6a249120",
   "metadata": {},
   "source": [
    "### Weight\n"
   ]
  },
  {
   "cell_type": "code",
   "execution_count": null,
   "id": "6bbbd280",
   "metadata": {},
   "outputs": [],
   "source": [
    "# Generate descriptive statistics on Weight columns (min, max, etc)\n",
    "ufc_df[[\"R_Weight\", \"B_Weight\"]].describe()\n"
   ]
  },
  {
   "cell_type": "code",
   "execution_count": null,
   "id": "570c7e6b",
   "metadata": {},
   "outputs": [],
   "source": [
    "# Use Box & Whisker plot to visualize Height outliers\n",
    "fig_boxplot_weight = px.box(\n",
    "    pd.melt(ufc_df[[\"R_Weight\", \"B_Weight\"]]),\n",
    "    x=\"variable\",\n",
    "    y=\"value\",\n",
    "    color=\"variable\",\n",
    "    # Color values from px.colors.qualitative.Plotly\n",
    "    color_discrete_map={\n",
    "        \"R_Weight\": \"#EF553B\",\n",
    "        \"B_Weight\": \"#636EFA\",\n",
    "    },\n",
    "    # Axis titles (and legend titles) can also be overridden using the labels argument of Plotly Express functions\n",
    "    labels=dict(variable=\"Fighter Color\", value=\"Weight (pounds)\"),\n",
    ")\n",
    "fig_boxplot_weight.show()"
   ]
  },
  {
   "cell_type": "markdown",
   "id": "4d1f9ac2",
   "metadata": {},
   "source": [
    "## Feature Engineering\n"
   ]
  },
  {
   "cell_type": "markdown",
   "id": "52b8a474",
   "metadata": {},
   "source": [
    "### Feature Creation\n"
   ]
  },
  {
   "cell_type": "markdown",
   "id": "f09e9301",
   "metadata": {},
   "source": [
    "#### Age Bucket\n"
   ]
  },
  {
   "cell_type": "code",
   "execution_count": null,
   "id": "32d7fe39",
   "metadata": {},
   "outputs": [],
   "source": [
    "# Find the minimum age in R_Age\n",
    "ufc_df[\"R_Age\"].min()\n"
   ]
  },
  {
   "cell_type": "code",
   "execution_count": null,
   "id": "a44b1ba3",
   "metadata": {},
   "outputs": [],
   "source": [
    "# Find the maximum age in R_Age\n",
    "ufc_df[\"R_Age\"].max()\n"
   ]
  },
  {
   "cell_type": "code",
   "execution_count": null,
   "id": "afa4fb2c",
   "metadata": {},
   "outputs": [],
   "source": [
    "# Find the minimum age in B_Age\n",
    "ufc_df[\"B_Age\"].min()\n"
   ]
  },
  {
   "cell_type": "code",
   "execution_count": null,
   "id": "f983ee12",
   "metadata": {},
   "outputs": [],
   "source": [
    "# Find the maximum age in B_Age\n",
    "ufc_df[\"B_Age\"].max()\n"
   ]
  },
  {
   "cell_type": "code",
   "execution_count": null,
   "id": "0386d9f5",
   "metadata": {},
   "outputs": [],
   "source": [
    "# Define four equal-sized buckets for the Age columns based on sample quantiles\n",
    "\n",
    "# Red age buckets\n",
    "r_age_bucket_labels = [\"Under 27\", \"27 - 30\", \"30 - 32\", \"Over 32\"]\n",
    "\n",
    "ufc_df[\"R_Age_Bucket\"] = pd.qcut(\n",
    "    x=ufc_df[\"R_Age\"], q=4, labels=r_age_bucket_labels, retbins=False, precision=3\n",
    ")\n",
    "\n",
    "# Blue age buckets\n",
    "b_age_bucket_labels = [\"Under 26\", \"26 - 29\", \"29 - 32\", \"Over 32\"]\n",
    "\n",
    "ufc_df[\"B_Age_Bucket\"] = pd.qcut(\n",
    "    x=ufc_df[\"B_Age\"], q=4, labels=b_age_bucket_labels, retbins=False, precision=3\n",
    ")\n",
    "\n",
    "# Drop Age columns\n",
    "# ufc_df = ufc_df.drop(columns=[\"R_Age\", \"B_Age\"])\n"
   ]
  },
  {
   "cell_type": "code",
   "execution_count": null,
   "id": "b6a308a4",
   "metadata": {},
   "outputs": [],
   "source": [
    "# A bar graph to visualize R_Age_Bucket and B_Age_Bucket\n",
    "fig_barplot_age_bucket = px.bar(    \n",
    "    # outer join the count of red and blue bucket into a single dataframe\n",
    "    # source: https://pandas.pydata.org/docs/user_guide/merging.html#joining-key-columns-on-an-index\n",
    "    pd.merge(\n",
    "        left=ufc_df[\"R_Age_Bucket\"].value_counts(),\n",
    "        right=ufc_df[\"B_Age_Bucket\"].value_counts(),\n",
    "        left_index=True,\n",
    "        right_index=True,\n",
    "        how=\"outer\",\n",
    "    ),   \n",
    "    y=[\"R_Age_Bucket\", \"B_Age_Bucket\"],\n",
    "    color=\"variable\",\n",
    "    # Color values from px.colors.qualitative.Plotly\n",
    "    color_discrete_map={\n",
    "        \"R_Age_Bucket\": \"#EF553B\",\n",
    "        \"B_Age_Bucket\": \"#636EFA\",\n",
    "    },\n",
    "    # Axis titles (and legend titles) can also be overridden using the labels argument of Plotly Express functions\n",
    "    labels=dict(variable=\"Fighter Color\", value=\"count\", index=\"Age Range (years)\"),\n",
    "    barmode=\"group\",\n",
    "    title = \"Age Bucket by Fighter Color\",\n",
    ")\n",
    "fig_barplot_age_bucket.show()"
   ]
  },
  {
   "cell_type": "markdown",
   "id": "675e7c02",
   "metadata": {},
   "source": [
    "#### Height Bucket\n"
   ]
  },
  {
   "cell_type": "code",
   "execution_count": null,
   "id": "2fedc9d2",
   "metadata": {},
   "outputs": [],
   "source": [
    "# Find the minimum height in R_Height\n",
    "ufc_df[\"R_Height\"].min()\n"
   ]
  },
  {
   "cell_type": "code",
   "execution_count": null,
   "id": "98989cc6",
   "metadata": {},
   "outputs": [],
   "source": [
    "# Find the maximum height in R_Height\n",
    "ufc_df[\"R_Height\"].max()\n"
   ]
  },
  {
   "cell_type": "code",
   "execution_count": null,
   "id": "ca688b82",
   "metadata": {},
   "outputs": [],
   "source": [
    "# Find the minimum height in B_Height\n",
    "ufc_df[\"B_Height\"].min()\n"
   ]
  },
  {
   "cell_type": "code",
   "execution_count": null,
   "id": "045a2cc7",
   "metadata": {},
   "outputs": [],
   "source": [
    "# Find the maximum height in B_Height\n",
    "ufc_df[\"B_Height\"].max()\n"
   ]
  },
  {
   "cell_type": "code",
   "execution_count": null,
   "id": "b77f761f",
   "metadata": {},
   "outputs": [],
   "source": [
    "# Create four equal-sized buckets for the Height columns based on sample quantiles\n",
    "\n",
    "# Red height buckets\n",
    "r_height_bucket_labels = [\"70 - 73\", \"60 - 68\", \"68 - 70\", \"73 - 83\"]\n",
    "\n",
    "ufc_df[\"R_Height_Bucket\"] = pd.qcut(\n",
    "    x=ufc_df[\"R_Height\"], q=4, labels=r_height_bucket_labels, retbins=False, precision=3\n",
    ")\n",
    "\n",
    "# Blue height buckets\n",
    "b_height_bucket_labels = [\"60 - 68\", \"70 - 73\", \"68 - 70\", \"73 - 83\"]\n",
    "ufc_df[\"B_Height_Bucket\"] = pd.qcut(\n",
    "    x=ufc_df[\"B_Height\"], q=4, labels=b_height_bucket_labels, retbins=False, precision=3\n",
    ")\n",
    "\n",
    "# Drop height columns\n",
    "# ufc_df = ufc_df.drop(columns=[\"R_Height\", \"B_Height\"])\n"
   ]
  },
  {
   "cell_type": "code",
   "execution_count": null,
   "id": "be6a18ea",
   "metadata": {},
   "outputs": [],
   "source": [
    "# A bar graph to visualize R_Height_Bucket and B_Height_Bucket\n",
    "fig_barplot_height_bucket = px.bar(    \n",
    "    # outer join the count of red and blue bucket into a single dataframe\n",
    "    # source: https://pandas.pydata.org/docs/user_guide/merging.html#joining-key-columns-on-an-index\n",
    "    pd.merge(\n",
    "        left=ufc_df[\"R_Height_Bucket\"].value_counts(),\n",
    "        right=ufc_df[\"B_Height_Bucket\"].value_counts(),\n",
    "        left_index=True,\n",
    "        right_index=True,\n",
    "        how=\"outer\",\n",
    "    ),   \n",
    "    y=[\"R_Height_Bucket\", \"B_Height_Bucket\"],\n",
    "    color=\"variable\",\n",
    "    # Color values from px.colors.qualitative.Plotly\n",
    "    color_discrete_map={\n",
    "        \"R_Height_Bucket\": \"#EF553B\",\n",
    "        \"B_Height_Bucket\": \"#636EFA\",\n",
    "    },\n",
    "    # Axis titles (and legend titles) can also be overridden using the labels argument of Plotly Express functions\n",
    "    labels=dict(variable=\"Fighter Color\", value=\"count\", index=\"Height Range (inches)\"),\n",
    "    barmode=\"group\",\n",
    "    title = \"Height Bucket by Fighter Color\",\n",
    ")\n",
    "fig_barplot_height_bucket.show()"
   ]
  },
  {
   "cell_type": "markdown",
   "id": "2dc09e86",
   "metadata": {},
   "source": [
    "#### Gender\n"
   ]
  },
  {
   "cell_type": "code",
   "execution_count": null,
   "id": "c3195daf",
   "metadata": {},
   "outputs": [],
   "source": [
    "# Create Gender Fight Class Column\n",
    "\n",
    "# TODO: There might be a *better* way of determining Gender, but this seems to works.\n",
    "# ufc_df[\"Gender\"] = np.where(\n",
    "#     ufc_df[\"Weight_Class\"].str.contains(\"Women's\"), \"Female\", \"Male\"\n",
    "# )\n",
    "\n",
    "ufc_df[\"Gender\"] = np.where(\n",
    "    ufc_df[\"Weight_Class\"].str.contains(\"Women's\"), 0, 1\n",
    ")  # Gender (sex) is 0 if female and 1 if male.\n"
   ]
  },
  {
   "cell_type": "code",
   "execution_count": null,
   "id": "49562894",
   "metadata": {},
   "outputs": [],
   "source": [
    "# display(\n",
    "#     ufc_df.loc[\n",
    "#         (ufc_df.Weight_Class == \"Women's Strawweight\")\n",
    "#         | (ufc_df.Weight_Class == \"Women's Flyweight\")\n",
    "#         | (ufc_df.Weight_Class == \"Women's Bantamweight\")\n",
    "#         | (ufc_df.Weight_Class == \"Women's Featherweight\")\n",
    "#     ].shape[0]\n",
    "# )\n",
    "\n",
    "ufc_df[\"Gender\"].value_counts()\n"
   ]
  },
  {
   "cell_type": "markdown",
   "id": "eafaa80f",
   "metadata": {},
   "source": [
    "#### Body Mass Index (BMI)\n"
   ]
  },
  {
   "cell_type": "markdown",
   "id": "69c56f19",
   "metadata": {},
   "source": [
    "[Calculating BMI Using the English System](https://www.cdc.gov/nccdphp/dnpao/growthcharts/training/bmiage/page5_2.html)\n",
    "\n",
    "Formula:\n",
    "\n",
    "> **weight** (lb) / [**height** (in)]<sup>2</sup> \\* **703**\n"
   ]
  },
  {
   "cell_type": "markdown",
   "id": "4ec1b9db",
   "metadata": {},
   "source": [
    "> \"The normal BMI scores may not be accurate if you're very muscular because muscle can add extra kilos, resulting in a high BMI when you're not an unhealthy weight.\" ([National Health Service](https://www.nhs.uk/conditions/obesity/diagnosis/))\n"
   ]
  },
  {
   "cell_type": "code",
   "execution_count": null,
   "id": "360c4df4",
   "metadata": {},
   "outputs": [],
   "source": [
    "# Divide weight by height twice, multiply by 703, and round to one decimal place\n",
    "\n",
    "# Calculate Red fighter BMI\n",
    "ufc_df[\"R_BMI\"] = round(ufc_df[\"R_Weight\"] / ufc_df[\"R_Height\"] ** 2 * 703, 1)\n",
    "\n",
    "# Calculate Blue fighter BMI\n",
    "ufc_df[\"B_BMI\"] = round(ufc_df[\"B_Weight\"] / ufc_df[\"B_Height\"] ** 2 * 703, 1)\n"
   ]
  },
  {
   "cell_type": "markdown",
   "id": "cd516fd1",
   "metadata": {},
   "source": [
    "#### Proposed new BMI\n"
   ]
  },
  {
   "cell_type": "markdown",
   "id": "22b5eb70",
   "metadata": {},
   "source": [
    "[Proposed formula](https://web.archive.org/web/20220321050055/https://people.maths.ox.ac.uk/trefethen/bmi.html) by Nick Trefethen, Professor of numerical analysis at University of Oxford.\n",
    "\n",
    "New formula:\n",
    "\n",
    "> **5734** \\* **weight** (lb) / [**height** (in)]<sup>2.5</sup>\n"
   ]
  },
  {
   "cell_type": "code",
   "execution_count": null,
   "id": "4752d7a8",
   "metadata": {},
   "outputs": [],
   "source": [
    "# Calculate BMI with the new proposed formula.\n",
    "\n",
    "# Calculate Red fighter BMI under proposed BMI\n",
    "ufc_df[\"R_BMI_proposed\"] = round(\n",
    "    5734 * ufc_df[\"R_Weight\"] / ufc_df[\"R_Height\"] ** 2.5, 1\n",
    ")\n",
    "\n",
    "# Calculate Blue fighter BMI under proposed BMI\n",
    "ufc_df[\"B_BMI_proposed\"] = round(\n",
    "    5734 * ufc_df[\"B_Weight\"] / ufc_df[\"B_Height\"] ** 2.5, 1\n",
    ")\n"
   ]
  },
  {
   "cell_type": "markdown",
   "id": "397c502c",
   "metadata": {},
   "source": [
    "#### Estimation of Body Fat\n"
   ]
  },
  {
   "cell_type": "markdown",
   "id": "79007a56",
   "metadata": {},
   "source": [
    "Adult Body Fat Percentage\n",
    "\n",
    "Formula:\n",
    "\n",
    "> Body fat % = ((1.39 \\* BMI) + (0.16 \\* Age) - (10.34 \\* Gender) - 9)\n",
    "\n",
    "- Where gender (sex) is 0 if female and 1 if male to account for the lower body fat percentage of men (International Journal of Obesity and Related Metabolic Disorders in 2002)\n"
   ]
  },
  {
   "cell_type": "code",
   "execution_count": null,
   "id": "f4421c40",
   "metadata": {},
   "outputs": [],
   "source": [
    "# Estimate Red Fighter Body Fat Percentage\n",
    "ufc_df[\"R_Body_Fat_Percentage\"] = (1.39 * ufc_df[\"R_BMI\"]) + (\n",
    "    0.16 * ufc_df[\"R_Age\"] - (10.34 * ufc_df[\"Gender\"]) - 9\n",
    ")\n",
    "\n",
    "# Estimate Blue Fighter Body Fat Percentage\n",
    "ufc_df[\"B_Body_Fat_Percentage\"] = (1.39 * ufc_df[\"R_BMI\"]) + (\n",
    "    0.16 * ufc_df[\"R_Age\"] - (10.34 * ufc_df[\"Gender\"]) - 9\n",
    ")\n"
   ]
  },
  {
   "cell_type": "markdown",
   "id": "2e9d67ee",
   "metadata": {},
   "source": [
    "#### Lean Body Mass\n"
   ]
  },
  {
   "cell_type": "markdown",
   "id": "d7ae01dc",
   "metadata": {},
   "source": [
    "\"For calculating lean body mass, body fat percentage was subtracted from 100 to get the lean mass percentage and lean mass percentage was divided by 100 to calculate the decimal for lean mass percentage, and then lean mass decimal was multiplied with total body weight.\" [(Prakash KO, Choudhary R, Singh G. Lean body mass, body fat percentage, and handgrip strength as predictors of bone mineral density in postmenopausal women. J Mid-life Health 2021;12:299-303)](https://www.jmidlifehealth.org/text.asp?2021/12/4/299/336149)\n",
    "\n",
    "Formula(s):\n",
    "\n",
    "> Lean Mass Percentage = 100 - Body Fat Percentage\n",
    "\n",
    "> Lean Mass Decimal = Lean Mass Percentage / 100\n",
    "\n",
    "> Lean Body Mass = Lean Mass Decimal \\* Total Body Weight\n",
    "\n",
    "> Lean Body Mass = ((100 - Body Fat Percentage) / 100) \\* Total Body Weight\n"
   ]
  },
  {
   "cell_type": "code",
   "execution_count": null,
   "id": "18f71bde",
   "metadata": {},
   "outputs": [],
   "source": [
    "# Estimate Red Fighter Lean Body Mass\n",
    "ufc_df[\"R_Lean_Body_Mass\"] = ((100 - ufc_df[\"R_Body_Fat_Percentage\"]) / 100) * ufc_df[\n",
    "    \"R_Weight\"\n",
    "]\n",
    "\n",
    "# Estimate Blue Fighter Lean Body Mass\n",
    "ufc_df[\"B_Lean_Body_Mass\"] = ((100 - ufc_df[\"B_Body_Fat_Percentage\"]) / 100) * ufc_df[\n",
    "    \"B_Weight\"\n",
    "]\n"
   ]
  },
  {
   "cell_type": "markdown",
   "id": "1689477d",
   "metadata": {},
   "source": [
    "### Set Categories\n"
   ]
  },
  {
   "cell_type": "code",
   "execution_count": null,
   "id": "79f6a0b9",
   "metadata": {},
   "outputs": [],
   "source": [
    "# Convert `winby` column into a category dtype\n",
    "ufc_df[\"Win_By\"] = ufc_df[\"Win_By\"].astype(\"category\")\n",
    "\n",
    "# Convert stances column into a category dtype\n",
    "ufc_df[\"R_Stance\"] = ufc_df[\"R_Stance\"].astype(\"category\")\n",
    "ufc_df[\"B_Stance\"] = ufc_df[\"B_Stance\"].astype(\"category\")\n",
    "\n",
    "# Convert Weight_Class column into a category dtype\n",
    "ufc_df[\"Weight_Class\"] = ufc_df[\"Weight_Class\"].astype(\"category\")\n",
    "\n",
    "# Convert Gender column into a category dtype\n",
    "ufc_df[\"Gender\"] = ufc_df[\"Gender\"].astype(\"category\")\n",
    "ufc_df[\"Gender\"] = ufc_df[\"Gender\"].cat.rename_categories({0: \"Female\", 1: \"Male\"})\n"
   ]
  },
  {
   "cell_type": "markdown",
   "id": "b64f3ff9",
   "metadata": {},
   "source": [
    "### View Features\n"
   ]
  },
  {
   "cell_type": "code",
   "execution_count": null,
   "id": "2908e86b",
   "metadata": {},
   "outputs": [],
   "source": [
    "# View category dtypes\n",
    "ufc_df.select_dtypes(include=[\"category\"]).columns.tolist()\n"
   ]
  },
  {
   "cell_type": "code",
   "execution_count": null,
   "id": "a2692394",
   "metadata": {},
   "outputs": [],
   "source": [
    "# View numerical values\n",
    "ufc_df.select_dtypes(include=[\"number\"]).columns.tolist()\n"
   ]
  },
  {
   "cell_type": "code",
   "execution_count": null,
   "id": "9fa17e03",
   "metadata": {},
   "outputs": [],
   "source": [
    "# TODO: Convert time to correct datatype\n",
    "# display(ufc_df.select_dtypes(include=[\"string\"]).columns.tolist())\n"
   ]
  },
  {
   "cell_type": "code",
   "execution_count": null,
   "id": "31a4b4fe",
   "metadata": {},
   "outputs": [],
   "source": [
    "ufc_df.head()\n"
   ]
  },
  {
   "cell_type": "code",
   "execution_count": null,
   "id": "9d52107c",
   "metadata": {
    "scrolled": false
   },
   "outputs": [],
   "source": [
    "# Display the data types of all columns\n",
    "with pd.option_context(\"display.max_rows\", None):\n",
    "    print(ufc_df.dtypes)\n"
   ]
  },
  {
   "cell_type": "markdown",
   "id": "4546c5ed",
   "metadata": {},
   "source": [
    "### Export Dataset\n"
   ]
  },
  {
   "cell_type": "code",
   "execution_count": null,
   "id": "1278c8ee",
   "metadata": {
    "pycharm": {
     "name": "#%%\n"
    }
   },
   "outputs": [],
   "source": [
    "ufc_df.to_csv(\"Resources/clean_scraped_data.csv\")\n",
    "\n",
    "# Uncomment to create your own scraped data file. Do not upload file to repo.\n",
    "# from joblib import dump\n",
    "# dump(ufc_df, \"Resources/clean_scraped_data.joblib\")\n"
   ]
  },
  {
   "cell_type": "code",
   "execution_count": null,
   "id": "2cb2e51c",
   "metadata": {},
   "outputs": [],
   "source": []
  }
 ],
 "metadata": {
  "interpreter": {
   "hash": "c29eb61a16307216b00d1f201439ffdefad79b69bd23b21a01e0b89ae939df9d"
  },
  "kernelspec": {
   "display_name": "Python 3.9.13 ('UFC')",
   "language": "python",
   "name": "python3"
  },
  "language_info": {
   "codemirror_mode": {
    "name": "ipython",
    "version": 3
   },
   "file_extension": ".py",
   "mimetype": "text/x-python",
   "name": "python",
   "nbconvert_exporter": "python",
   "pygments_lexer": "ipython3",
   "version": "3.9.13"
  }
 },
 "nbformat": 4,
 "nbformat_minor": 5
}
